{
 "cells": [
  {
   "cell_type": "markdown",
   "metadata": {},
   "source": [
    "# Cargando las librerias requeridas"
   ]
  },
  {
   "cell_type": "code",
   "execution_count": null,
   "metadata": {},
   "outputs": [],
   "source": [
    "import numpy as np\n",
    "import pandas as pd\n",
    "from plotnine import *"
   ]
  },
  {
   "cell_type": "code",
   "execution_count": null,
   "metadata": {},
   "outputs": [],
   "source": [
    "from sklearn import datasets\n",
    "wine = datasets.load_wine() #Cargando el dataset de vino\n",
    "print(wine.keys()) #Analizando las variables que tiene\n",
    "\n",
    "#Escalando los datos\n",
    "from sklearn.preprocessing import StandardScaler\n",
    "scaler = StandardScaler() #Creamos un objeto de la clase StandardScaler\n",
    "scaled_features = scaler.fit_transform(wine.data) #Transformamos los datos"
   ]
  },
  {
   "cell_type": "markdown",
   "metadata": {},
   "source": [
    "# Fuzzy C-means\n",
    "\n",
    "sklearn no ha implementado este modelo.\n",
    "\n",
    "Utilizaremos la función c_means del paquete skfuzzy, el cual retorna múltiples valores. El único problema de esta función es que considera las filas como variable y las columnas como puntos.<br>\n",
    "c_means(data, c, m, error, maxiter)<br><br>\n",
    "Parámetros\n",
    "* data => Data a clusterizar.\n",
    "* c => Número de clusters.\n",
    "* m => Parámetro difusor.\n",
    "* error => Criterio de parada según el error.\n",
    "* maxIter => Número máximo de iteraciones.\n",
    "\n",
    "Valores de retorno\n",
    "* cntr => Centro de los clusters.\n",
    "* u => Matriz de pertenencia\n",
    "* u0 => Matriz de pertenencia inicial.\n",
    "* d => Matriz final de la distancia Euclidiana.\n",
    "* jm => Log de la función objetivo.\n",
    "* p => Número de iteraciones ejecutadas.\n",
    "* fpc => Coeficiente de partición final. Varía entre 0 y 1 y valores cercano a 1 son mejores."
   ]
  },
  {
   "cell_type": "code",
   "execution_count": null,
   "metadata": {},
   "outputs": [],
   "source": []
  },
  {
   "cell_type": "code",
   "execution_count": null,
   "metadata": {},
   "outputs": [],
   "source": [
    "#import sys\n",
    "#!{sys.executable} -m pip install scikit-fuzzy\n",
    "import skfuzzy as fuzzy\n",
    "#Llamando a la función con los datos requeridos\n",
    "(CentrosClusters, u, _, _, _, _, fpc) = fuzzy.cluster.cmeans(scaled_features.transpose(), c=4, m=2.0, error=0.005, maxiter=1000)\n",
    "\n",
    "print(\"Centros de los clusters\")\n",
    "print(CentrosClusters)\n",
    "\n",
    "#Atención, la matriz u está invertida\n",
    "print(\"\\nProbabilidad de pertenencia para el primer punto\")\n",
    "print(u[:,177]) \n",
    "\n",
    "#Obteniendo la membresía de cada punto\n",
    "clusters = np.argmax(u, axis=0)\n",
    "print(\"\\nEtiqueta de cada punto\")\n",
    "print(clusters)\n",
    "\n",
    "print(\"\\nValor final del fuzzy partition coefficient\")\n",
    "print(fpc)"
   ]
  },
  {
   "cell_type": "markdown",
   "metadata": {},
   "source": [
    "Centroides"
   ]
  },
  {
   "cell_type": "code",
   "execution_count": null,
   "metadata": {},
   "outputs": [],
   "source": [
    "CentrosClusters\n",
    "#pd.DataFrame(CentrosClusters.transpose(), index=wine.feature_names)"
   ]
  },
  {
   "cell_type": "code",
   "execution_count": null,
   "metadata": {},
   "outputs": [],
   "source": [
    "u\n",
    "#pd.DataFrame(u.transpose())"
   ]
  },
  {
   "cell_type": "markdown",
   "metadata": {},
   "source": [
    "Seleccionando una etiqueta"
   ]
  },
  {
   "cell_type": "code",
   "execution_count": null,
   "metadata": {},
   "outputs": [],
   "source": [
    "#Obteniendo la membresía de cada punto\n",
    "clusters = np.argmax(u, axis=0)\n",
    "clusters"
   ]
  },
  {
   "cell_type": "markdown",
   "metadata": {},
   "source": [
    "Buscando el valor de K"
   ]
  },
  {
   "cell_type": "code",
   "execution_count": null,
   "metadata": {},
   "outputs": [],
   "source": [
    "#Buscando el valor de K\n",
    "fpcVal = []\n",
    "numK=11\n",
    "for k in range(2, numK):\n",
    "    (CentrosClusters, u, _, _, _, _, fpc) = fuzzy.cluster.cmeans(scaled_features.transpose(), c=k, m=2, error=0.0005, maxiter=1000)\n",
    "    fpcVal.append(fpc)\n",
    "pd.DataFrame(fpcVal, index=np.arange(2,numK)).plot()\n",
    "# tempDataFrame=pd.DataFrame(range(2, numK),columns=[\"numK\"])\n",
    "# tempDataFrame[\"fpcVal\"]=fpcVal\n",
    "# (ggplot(tempDataFrame)+aes(x=\"numK\",y=\"fpcVal\")+theme_bw()+geom_line()+labs(x=\"Número de clusters\",y=\"fpc\")\n",
    "#  +scale_x_continuous(breaks=range(2,numK))\n",
    "# )"
   ]
  },
  {
   "cell_type": "code",
   "execution_count": null,
   "metadata": {},
   "outputs": [],
   "source": [
    "#Buscando el valor de K, usando within cluster distance\n",
    "sse = []\n",
    "numK=11\n",
    "for k in range(1, numK):\n",
    "    (CentrosClusters, u, _, _, _, _, fpc) = fuzzy.cluster.cmeans(scaled_features.transpose(), c=k, m=2, error=0.0005, maxiter=1000)\n",
    "    clusters = np.argmax(u, axis=0)\n",
    "    tempWCD=0\n",
    "    for j in range(CentrosClusters.shape[0]):\n",
    "        tempWCD+=np.square(scaled_features[clusters==j,]-CentrosClusters[j,:]).sum()\n",
    "    sse.append(tempWCD)\n",
    "pd.DataFrame(sse, index=np.arange(1,numK)).plot()\n",
    "\n",
    "\n",
    "# tempDataFrame=pd.DataFrame(range(1,numK),columns=[\"numK\"])\n",
    "# tempDataFrame[\"sse\"]=sse\n",
    "# (ggplot(tempDataFrame)+aes(x=\"numK\",y=\"sse\")+theme_bw()+geom_line()+labs(x=\"Número de clusters\",y=\"wcd\")\n",
    "#  +scale_x_continuous(breaks=range(1,numK)))"
   ]
  },
  {
   "cell_type": "code",
   "execution_count": null,
   "metadata": {},
   "outputs": [],
   "source": [
    "#Obteniendo 3 clusters\n",
    "(CentrosClusters, u, _, _, _, _, fpc) = fuzzy.cluster.cmeans(scaled_features.transpose(), c=3, m=1.4, error=0.0005, maxiter=1000)\n",
    "clusters = np.argmax(u, axis=0)\n",
    "\n",
    "#Creando el objeto y aplicando PCA\n",
    "from sklearn.decomposition import PCA\n",
    "pca = PCA(n_components=2)\n",
    "\n",
    "tempData = pd.DataFrame(pca.fit_transform(scaled_features),columns=[\"PC1\",\"PC2\"])\n",
    "tempData[\"labels\"]=clusters\n",
    "\n",
    "color = []\n",
    "for i in range(tempData.shape[0]):\n",
    "    rgb = (u*255).astype('int')\n",
    "    color.append('#%02x%02x%02x' % (rgb[0,i],rgb[1,i],rgb[2,i]))\n",
    "#tempData['Cluster']= color\n",
    "\n",
    "ggplot(tempData, aes(x='PC1', y='PC2')) + geom_point(color=color)"
   ]
  },
  {
   "cell_type": "code",
   "execution_count": null,
   "metadata": {},
   "outputs": [],
   "source": []
  },
  {
   "cell_type": "code",
   "execution_count": null,
   "metadata": {},
   "outputs": [],
   "source": []
  }
 ],
 "metadata": {
  "kernelspec": {
   "display_name": "Python 3 (ipykernel)",
   "language": "python",
   "name": "python3"
  },
  "language_info": {
   "codemirror_mode": {
    "name": "ipython",
    "version": 3
   },
   "file_extension": ".py",
   "mimetype": "text/x-python",
   "name": "python",
   "nbconvert_exporter": "python",
   "pygments_lexer": "ipython3",
   "version": "3.9.10"
  }
 },
 "nbformat": 4,
 "nbformat_minor": 4
}
