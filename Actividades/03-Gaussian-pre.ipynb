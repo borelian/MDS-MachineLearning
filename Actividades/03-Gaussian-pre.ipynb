{
 "cells": [
  {
   "cell_type": "markdown",
   "metadata": {},
   "source": [
    "# Actividad Gaussian Mixture Model\n",
    "\n",
    "Como se habrán dado cuenta, distintos modelos pueden modelar mejor un set de datos que otro. En esta actividad vamos a ver distintos set de datos y tratar de determinar cual de los 4 modelos (k-means, DBSCAN, hierarchical, Gaussian) podría modelar de mejor manera los datos."
   ]
  },
  {
   "cell_type": "code",
   "execution_count": null,
   "metadata": {},
   "outputs": [],
   "source": [
    "#Instalando las librerias requeridas\n",
    "#import sys\n",
    "#!{sys.executable} -m pip install numpy, pandas, plotnine, sklearn"
   ]
  },
  {
   "cell_type": "code",
   "execution_count": null,
   "metadata": {},
   "outputs": [],
   "source": [
    "import numpy as np\n",
    "import pandas as pd\n",
    "from plotnine import *"
   ]
  },
  {
   "cell_type": "code",
   "execution_count": null,
   "metadata": {},
   "outputs": [],
   "source": [
    "#Dataset 1 dos lunas\n",
    "allData=[]\n",
    "numPuntos=1000\n",
    "from sklearn.datasets import make_moons\n",
    "tempData=make_moons(n_samples=numPuntos,shuffle=True, noise=0.08, random_state=0)\n",
    "allData.append(tempData[0])\n",
    "\n",
    "#Dataset 2 dos círculos\n",
    "from sklearn.datasets import make_circles\n",
    "tempData = make_circles(n_samples=numPuntos, factor=.5, noise=.05)\n",
    "allData.append(tempData[0])\n",
    "\n",
    "#Dataset 3 tres clusters\n",
    "from sklearn.datasets import make_blobs\n",
    "tempData = make_blobs(n_samples=numPuntos, random_state=8)\n",
    "allData.append(tempData[0])\n",
    "\n",
    "#Dataset 4 clusters alargados\n",
    "random_state = 170\n",
    "tempData = make_blobs(n_samples=numPuntos, random_state=170)\n",
    "transformation = [[0.6, -0.6], [-0.4, 0.8]]\n",
    "tempData = np.dot(tempData[0], transformation)\n",
    "allData.append(tempData)\n",
    "\n",
    "#Dataset 5 Cluster con distinta varianza\n",
    "tempData = make_blobs(n_samples=numPuntos,cluster_std=[1.0, 2.5, 0.5],random_state=170)\n",
    "allData.append(tempData[0])"
   ]
  },
  {
   "cell_type": "code",
   "execution_count": null,
   "metadata": {},
   "outputs": [],
   "source": [
    "from matplotlib import gridspec\n",
    "import matplotlib.pyplot as plt\n",
    "\n",
    "# Creando un gráfico vacio y grilla de gráfico\n",
    "numPlots=len(allData)\n",
    "numModels=5\n",
    "df = pd.DataFrame(columns=[\"\"])\n",
    "fig = (ggplot(df)+theme_void()).draw()\n",
    "gs = gridspec.GridSpec(numModels,numPlots)\n",
    "\n",
    "#Agregando los puntos vacios\n",
    "for i in range(numPlots):\n",
    "    # Create subplots using plotnine\n",
    "    temp = ggplot(df)+aes(x=allData[i][:,0],y=allData[i][:,1])+geom_point()+theme_void()\n",
    "    #Adding the subplot to grid\n",
    "    _ = temp._draw_using_figure(fig, [fig.add_subplot(gs[0,i])])\n",
    "\n",
    "#showing the figure\n",
    "fig.set_size_inches(numPlots*10,numModels*10)\n",
    "fig.show()"
   ]
  },
  {
   "cell_type": "markdown",
   "metadata": {},
   "source": [
    "# Pregunta 1\n",
    "## ¿Qué datasets debería modelar sin problemas k-means?\n",
    "### Una vez que responda ejecute el siguiente código"
   ]
  },
  {
   "cell_type": "code",
   "execution_count": null,
   "metadata": {},
   "outputs": [],
   "source": [
    "#Aplicando K-means\n",
    "from sklearn.cluster import KMeans\n",
    "from matplotlib import gridspec\n",
    "import matplotlib.pyplot as plt\n",
    "from IPython.display import display\n",
    "\n",
    "numClusters=[2, 2, 3, 3, 3]\n",
    "\n",
    "#Aplicando K-means\n",
    "for i in range(len(numClusters)):\n",
    "    finalModel=KMeans(n_clusters=numClusters[i])\n",
    "    finalModel=finalModel.fit(allData[i])\n",
    "    temp = ggplot(df)+aes(x=allData[i][:,0],y=allData[i][:,1],color=(finalModel.labels_).astype(\"str\"))+geom_point(show_legend=False)+theme_void()\n",
    "    #Adding the subplot to grid\n",
    "    _ = temp._draw_using_figure(fig, [fig.add_subplot(gs[1,i])])\n",
    "\n",
    "#mostrando la figura\n",
    "fig.set_size_inches(numPlots*10,numModels*10)\n",
    "display(fig)\n",
    "\n"
   ]
  },
  {
   "cell_type": "markdown",
   "metadata": {},
   "source": [
    "# Pregunta 2\n",
    "## ¿Qué datasets debería modelar sin problemas DBscan?\n",
    "### Una vez que responda ejecute el siguiente código"
   ]
  },
  {
   "cell_type": "code",
   "execution_count": null,
   "metadata": {},
   "outputs": [],
   "source": [
    "#DBSCAN\n",
    "from sklearn.cluster import DBSCAN\n",
    "from sklearn.neighbors import NearestNeighbors\n",
    "from matplotlib import gridspec\n",
    "import matplotlib.pyplot as plt\n",
    "from IPython.display import display\n",
    "numNeighboors=3\n",
    "valorEPS=[0.1, 0.2, 1.0, 0.26, 0.70]\n",
    "\n",
    "#Aplicando DBSCAN\n",
    "for i in range(len(valorEPS)):\n",
    "    finalModel=DBSCAN(eps=valorEPS[i], min_samples=numNeighboors)\n",
    "    finalModel=finalModel.fit(allData[i])\n",
    "    temp = ggplot(df)+aes(x=allData[i][:,0],y=allData[i][:,1],color=(finalModel.labels_).astype(\"str\"))+geom_point(show_legend=False)+theme_void()\n",
    "    #Adding the subplot to grid\n",
    "    _ = temp._draw_using_figure(fig, [fig.add_subplot(gs[2,i])])\n",
    "\n",
    "#mostrando la figura\n",
    "fig.set_size_inches(numPlots*10,numModels*10)\n",
    "display(fig)\n",
    "\n"
   ]
  },
  {
   "cell_type": "markdown",
   "metadata": {},
   "source": [
    "# Pregunta 3\n",
    "## ¿Qué datasets debería modelar sin problemas algún método jerarquico?\n",
    "### Una vez que responda ejecute el siguiente código"
   ]
  },
  {
   "cell_type": "code",
   "execution_count": null,
   "metadata": {},
   "outputs": [],
   "source": [
    "#Hierarchical\n",
    "import scipy.cluster.hierarchy as shc\n",
    "from matplotlib import gridspec\n",
    "import matplotlib.pyplot as plt\n",
    "from IPython.display import display\n",
    "numNeighboors=3\n",
    "\n",
    "opcion=2 #0:Single linkage, #1:complete linkage, #2:average linkage, #3: ward\n",
    "metodo=['single','complete','average','ward']\n",
    "corte=np.zeros((4,5))\n",
    "corte[0,:]=[0.12,0.15,2.0,0.6,1.25]\n",
    "corte[1,:]=[2.5,2.25,10,6,12]\n",
    "corte[2,:]=[1.5,1.2,6,3,6.4]\n",
    "corte[3,:]=[25,20,50,27,75]\n",
    "\n",
    "#Entrenando el modelo\n",
    "for i in range(corte.shape[1]):\n",
    "    modelo = shc.linkage(allData[i], method=metodo[opcion])\n",
    "    clusters=shc.fcluster(modelo,t=corte[opcion,i],criterion=\"distance\")-1\n",
    "    temp = ggplot(df)+aes(x=allData[i][:,0],y=allData[i][:,1],color=(clusters).astype(\"str\"))+geom_point(show_legend=False)+theme_void()\n",
    "    #Agregando el grafico\n",
    "    _ = temp._draw_using_figure(fig, [fig.add_subplot(gs[3,i])])\n",
    "\n",
    "# #mostrando la figura\n",
    "fig.set_size_inches(numPlots*10,numModels*10)\n",
    "display(fig)\n",
    "\n"
   ]
  },
  {
   "cell_type": "markdown",
   "metadata": {},
   "source": [
    "# Pregunta 4\n",
    "## ¿Qué datasets debería modelar sin problemas Gaussian Mixture Model (GMM)?\n",
    "### Desarrolle el código y verifique si el número de clusters detectados por el modelo para los distintos datasets"
   ]
  },
  {
   "cell_type": "code",
   "execution_count": null,
   "metadata": {},
   "outputs": [],
   "source": [
    "from sklearn.mixture import GaussianMixture\n",
    "#Busque el valor de K, usando AIC O BIC\n",
    "maxNum=20 #Número máximo de clusters a evaluar\n",
    "numeroDataset=3 #Número del dataset a evaluar (varía entre 0 y 4)\n",
    "#Data frame para guardar todos los valores calculados\n",
    "allValues=pd.DataFrame(np.zeros(((maxNum-2)*2,3)), columns=[\"numK\",\"Metric\",\"Value\"])\n",
    "\n",
    "#Ciclo para modelar distintos valores de K\n",
    "for k in range(2, maxNum):\n",
    "    #Cree un objeto usando GaussianMixture con k componentes y el tipo de covarianza que usted quiera\n",
    "    GMM = GaussianMixture(n_components=k, covariance_type=\"full\")\n",
    "\n",
    "    #Entrene el modelo usando los datos del numeroDataset\n",
    "    GMM = GMM.fit(allData[numeroDataset])\n",
    "        \n",
    "    #Calcule el BIC usando los datos de entrenamiento con la función bic\n",
    "    allValues.iloc[2*(k-2),0]=k\n",
    "    allValues.iloc[2*(k-2),1]= 'BIC'\n",
    "    allValues.iloc[2*(k-2),2]= GMM.bic(allData[numeroDataset])   \n",
    "    \n",
    "    #Calcule el AIC usando los datos de entrenamiento con la función aic\n",
    "    allValues.iloc[2*(k-2)+1,0]=k\n",
    "    allValues.iloc[2*(k-2)+1,1]= 'AIC'\n",
    "    allValues.iloc[2*(k-2)+1,2]= GMM.aic(allData[numeroDataset])\n",
    "    \n",
    "\n",
    "ggplot(allValues, aes(x='numK', y='Value'))\\\n",
    "+ geom_line() + theme_bw() + facet_wrap('Metric')\\\n",
    "+scale_x_continuous(breaks=range(2,maxNum))\n",
    "\n",
    "\n"
   ]
  },
  {
   "cell_type": "code",
   "execution_count": null,
   "metadata": {},
   "outputs": [],
   "source": [
    "#Aplicando GMM\n",
    "from sklearn.mixture import GaussianMixture\n",
    "from matplotlib import gridspec\n",
    "import matplotlib.pyplot as plt\n",
    "from IPython.display import display\n",
    "\n",
    "#Número de clusters a buscar para cada set de datos\n",
    "numClusters=[2, 2, 3, 3, 3]\n",
    "\n",
    "#Ciclo sobre el número de datasets\n",
    "for i in range(len(numClusters)):\n",
    "    #Aprende el modelo y genere sus predicciones\n",
    "    GMM = GaussianMixture(n_components=numClusters[i], covariance_type=\"full\")\n",
    "    GMM.fit(allData[i])\n",
    "    clusters= np.argmax(GMM.predict_proba(allData[i]), axis=1)\n",
    "\n",
    "\n",
    "    #Guarde la predicción de los clusters en la variable clusters\n",
    "    temp = ggplot(df)+aes(x=allData[i][:,0],y=allData[i][:,1],color=(clusters).astype(\"str\"))+geom_point(show_legend=False)+theme_void()\n",
    "    #Adding the subplot to grid\n",
    "    _ = temp._draw_using_figure(fig, [fig.add_subplot(gs[4,i])])\n",
    "\n",
    "#mostrando la figura\n",
    "fig.set_size_inches(numPlots*10,numModels*10)\n",
    "display(fig)\n"
   ]
  },
  {
   "cell_type": "code",
   "execution_count": null,
   "metadata": {},
   "outputs": [],
   "source": []
  }
 ],
 "metadata": {
  "kernelspec": {
   "display_name": "Python3.9",
   "language": "python",
   "name": "python3.9"
  },
  "language_info": {
   "codemirror_mode": {
    "name": "ipython",
    "version": 3
   },
   "file_extension": ".py",
   "mimetype": "text/x-python",
   "name": "python",
   "nbconvert_exporter": "python",
   "pygments_lexer": "ipython3",
   "version": "3.9.12"
  }
 },
 "nbformat": 4,
 "nbformat_minor": 4
}
