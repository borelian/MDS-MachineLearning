{
 "cells": [
  {
   "cell_type": "markdown",
   "metadata": {},
   "source": [
    "# Actividad kNN y evaluación\n",
    "\n",
    "Para esta actividad buscaremos el mejor valor de k para un problema de clasificación de tumores de cancer. Además, compararemos la curva de entrenamiento y test para los valores de k. \n"
   ]
  },
  {
   "cell_type": "code",
   "execution_count": null,
   "metadata": {},
   "outputs": [],
   "source": [
    "#Instalando las librerias requeridas\n",
    "#import sys\n",
    "#!{sys.executable} -m pip install numpy, pandas, plotnine, sklearn"
   ]
  },
  {
   "cell_type": "code",
   "execution_count": null,
   "metadata": {},
   "outputs": [],
   "source": [
    "import numpy as np\n",
    "import pandas as pd\n",
    "from plotnine import *"
   ]
  },
  {
   "cell_type": "markdown",
   "metadata": {},
   "source": [
    "## Data\n",
    "La data corresponde a un estudio de imagenes para predecir cancer de mama. Contiene 568 datos, con 30 *features* (atributos) numéricos, y 2 clases: *Maligno* (1) y *Benigno* (0)"
   ]
  },
  {
   "cell_type": "code",
   "execution_count": null,
   "metadata": {
    "scrolled": true
   },
   "outputs": [],
   "source": [
    "from sklearn.datasets import load_breast_cancer\n",
    "loadData = load_breast_cancer(as_frame=True)\n",
    "print(loadData['DESCR'])"
   ]
  },
  {
   "cell_type": "markdown",
   "metadata": {},
   "source": [
    "Carguemos la data, y reemplacemos algunos nombres de columna."
   ]
  },
  {
   "cell_type": "code",
   "execution_count": null,
   "metadata": {},
   "outputs": [],
   "source": [
    "data = loadData['data']\n",
    "data.columns = data.columns.str.replace(' ','_')\n",
    "target = loadData['target']\n",
    "target = 1-target # para que \"1\" sea \"Maligno\""
   ]
  },
  {
   "cell_type": "code",
   "execution_count": null,
   "metadata": {},
   "outputs": [],
   "source": [
    "data.describe()"
   ]
  },
  {
   "cell_type": "markdown",
   "metadata": {},
   "source": [
    "Como vamos a usar KNN, es importante normalizar los datos para que la \"distancia\" sea comparable entre los distintos atributos. Esto lo hacemos con un `StandardScaler` para dejarlos con media 0 y varianza 1."
   ]
  },
  {
   "cell_type": "code",
   "execution_count": null,
   "metadata": {},
   "outputs": [],
   "source": [
    "from sklearn.preprocessing import StandardScaler\n",
    "scaler = StandardScaler()\n",
    "dataNorm = scaler.fit_transform(data)"
   ]
  },
  {
   "cell_type": "markdown",
   "metadata": {},
   "source": [
    "Finalmente, separamos los datos en un set de entrenamiento (`X_train` y `y_train`) para calibrar el modelo, y un set de test (`X_test`, `y_test`) para evaluarlo."
   ]
  },
  {
   "cell_type": "code",
   "execution_count": null,
   "metadata": {},
   "outputs": [],
   "source": [
    "from sklearn.model_selection import train_test_split\n",
    "X_train, X_test, y_train, y_test = train_test_split(dataNorm, target, random_state=0)\n"
   ]
  },
  {
   "cell_type": "markdown",
   "metadata": {},
   "source": [
    "## Parte 1:  Entrenar un modelo kNN y evaluar su performance.\n"
   ]
  },
  {
   "cell_type": "markdown",
   "metadata": {},
   "source": [
    "Genere un modelo de KNN y calibrelo para los datos de entrenamiento. Escoja el número de vecinos del modelo (más adelante, calibraremos ese parámetro).  Con esto haga una predicción para los datos de `X_test`, y guarde estos resultados en la variable `prediccion`"
   ]
  },
  {
   "cell_type": "code",
   "execution_count": null,
   "metadata": {},
   "outputs": [],
   "source": [
    "from sklearn.neighbors import KNeighborsClassifier\n",
    "\n",
    "KNN = KNeighborsClassifier(n_neighbors= <DEFINA EL NUMERO DE VECINOS A USAR>)\n",
    "KNN=KNN.fit(<Datos entrenamiento>, <Target entrenamiento>)\n",
    "prediccion=KNN.predict(<Datos test>)"
   ]
  },
  {
   "cell_type": "markdown",
   "metadata": {},
   "source": [
    "Evalue el performance de su modelo, para las distintas métricas. Para esto, recuerde comparar los resultados reales `y_test` con los resultados predecidos `prediccion`.\n",
    "\n",
    "Recuerde que puede usar distintas herramientas, por ejemplo:\n",
    "- Accuracy : `mt.accuracy_score(<reales>,<prediccion>)` \n",
    "- Precision: `mt.precision_score(<reales>,<prediccion>)` \n",
    "- Recall: `mt.recall_score(<reales>,<prediccion>)` \n",
    "- F1: `mt.f1_score(<reales>,<prediccion>)` \n",
    "- Reporte general: `mt.classification_report(<reales>,<prediccion>)`\n",
    "- Matriz confusión: `mt.confusion_matrix(<reales>,<prediccion>)`\n",
    "- Matriz confusión (plot): `mt.ConfusionMatrixDisplay(mt.confusion_matrix(<reales>,<prediccion>)).plot()`\n",
    "\n",
    "Recuerde F1= 2TP/(2TP+FN+FP), recall= TP/(TP+FP) y precision= TP/(TP+FN)"
   ]
  },
  {
   "cell_type": "code",
   "execution_count": null,
   "metadata": {},
   "outputs": [],
   "source": [
    "from sklearn import metrics as mt\n",
    "# Escriba aquí sus evaluaciones\n",
    "\n"
   ]
  },
  {
   "cell_type": "markdown",
   "metadata": {},
   "source": [
    "**Pregunta**: ¿Es buena la predicción obtenida? ¿Qué métrica de evaluación (accuracy, precision, recall, f1) deberíamos mirar? Escoga una de estas para la siguiente parte."
   ]
  },
  {
   "cell_type": "markdown",
   "metadata": {},
   "source": [
    "## Parte 2 : Repetir la evaluación usando cross-validation"
   ]
  },
  {
   "cell_type": "markdown",
   "metadata": {},
   "source": [
    "Para major certeza de lo obtenido, haremos un `KFold` (sugerencia: usar 10-fold), y usaremos `cross_validate` para evaluar cada una de las métricas, reportando su media y desviación estandar.  Para esto usamos los datos completos (o sea, no `X_train`, ...) ya que `cross_validate` se encargará de separar el conjunto train y test."
   ]
  },
  {
   "cell_type": "code",
   "execution_count": null,
   "metadata": {},
   "outputs": [],
   "source": [
    "from sklearn.model_selection import KFold\n",
    "from sklearn.neighbors import KNeighborsClassifier\n",
    "from sklearn import metrics as mt\n",
    "from sklearn.model_selection import cross_validate\n",
    "\n",
    "\n",
    "#Creamos un objeto de la clase KFold \n",
    "kf = KFold(n_splits= <NUMERO DE FOLDS ELEGIDO> )\n",
    "\n",
    "    \n",
    "#Cree un objeto de la clase KNeighborsClassifier. No necesita hacer .fit, cross_validate se encarga de eso\n",
    "KNN = KNeighborsClassifier(n_neighbors= <DEFINA EL NUMERO DE VECINOS A USAR>)\n",
    "\n",
    "#Hacemos cross_validate para las distintas métricas. \n",
    "#recuerde que las métricas son 'accuracy', 'precision', 'recall', 'f1'\n",
    "res = cross_validate(KNN, <DATOS ORIGINALES>, <TARGET ORIGINAL>, scoring=<METRICA>, cv=kf, return_train_score=True)    \n",
    "print ('Score <METRICA> train:', res['train_score'].mean(),'+-',res['train_score'].std())\n",
    "print ('Score <METRICA> test:', res['test_score'].mean(),'+-',res['test_score'].std())\n",
    "\n",
    "# Repita este código para las distintas métricas\n"
   ]
  },
  {
   "cell_type": "markdown",
   "metadata": {},
   "source": [
    "**Pregunta**: ¿Se mantienen similares a las vistas anteriormente?"
   ]
  },
  {
   "cell_type": "markdown",
   "metadata": {},
   "source": [
    "## Parte 3 : Calibrar el modelo para distintos números de vecinos `n_neighbors` usando cross-validation"
   ]
  },
  {
   "cell_type": "code",
   "execution_count": null,
   "metadata": {},
   "outputs": [],
   "source": [
    "#Creando el objeto con sus características \n",
    "from sklearn.model_selection import KFold\n",
    "from sklearn.neighbors import KNeighborsClassifier\n",
    "from sklearn import metrics as mt\n",
    "\n",
    "\n",
    "# Defina el número máximo de vecinos a explorar\n",
    "maxK= <SU NUMERO MAXIMO DE VECINOS>\n",
    "\n",
    "#Generando los k-fold\n",
    "kf = KFold(n_splits=10)\n",
    "\n",
    "# guardaremos los resultados acá\n",
    "results = pd.DataFrame(columns=['k','Tipo', 'Metrica', 'ScoreMean', 'ScoreStd'])\n",
    "\n",
    "for k in range(1,maxK+1): #Ciclo for para buscar el mejor valor de K\n",
    "    #Cree un objeto de la clase KNeighborsClassifier con n_neighbors=k\n",
    "    KNN = KNeighborsClassifier(n_neighbors=k)\n",
    "    #Hacemos un ciclo for para las distintas métricas\n",
    "    for metrica in ['accuracy', 'recall', 'precision', 'f1']:\n",
    "        res = cross_validate(KNN, <DATOS ORIGINALES>, <TARGET ORIGINAL>, scoring=metrica, cv=kf, return_train_score=True)    \n",
    "        results.loc[len(results)] = [k,'train',metrica,res['train_score'].mean(),res['train_score'].std()]\n",
    "        results.loc[len(results)] = [k,'test',metrica,res['test_score'].mean(),res['test_score'].std()]\n",
    "\n",
    "results"
   ]
  },
  {
   "cell_type": "markdown",
   "metadata": {},
   "source": [
    "Si todo resultó bien, grafique los resultados con el siguiente código:"
   ]
  },
  {
   "cell_type": "code",
   "execution_count": null,
   "metadata": {},
   "outputs": [],
   "source": [
    "ggplot(results, aes(x='k', color='Tipo'))\\\n",
    "+ geom_line(aes(y='ScoreMean', group='Tipo'))\\\n",
    "+ geom_errorbar(aes(ymin='ScoreMean-ScoreStd', ymax='ScoreMean+ScoreStd'))\\\n",
    "+ facet_wrap('Metrica')\\\n",
    "+ theme_bw()"
   ]
  },
  {
   "cell_type": "markdown",
   "metadata": {},
   "source": [
    "**Pregunta**: ¿Cuál es el mejor número de vecinos a su parecer?  Escoga uno como \"el mejor\""
   ]
  },
  {
   "cell_type": "code",
   "execution_count": null,
   "metadata": {},
   "outputs": [],
   "source": []
  },
  {
   "cell_type": "markdown",
   "metadata": {},
   "source": [
    "## Parte 4 (opcional, si tiene tiempo)\n",
    "## Evaluación con curva de ROC"
   ]
  },
  {
   "cell_type": "markdown",
   "metadata": {},
   "source": [
    "A partir del modelo construido, podemos evaluar si hay una mejor \"probabilidad\" que usar para definir si es maligno o benigno, utilizando la curva de ROC."
   ]
  },
  {
   "cell_type": "code",
   "execution_count": null,
   "metadata": {},
   "outputs": [],
   "source": [
    "from sklearn.model_selection import KFold\n",
    "from sklearn.neighbors import KNeighborsClassifier\n",
    "from sklearn import metrics as mt\n",
    "from sklearn.model_selection import train_test_split\n",
    "\n",
    "#Separemos los datos nuevamente en test y train\n",
    "X_train, X_test, y_train, y_test = train_test_split(dataNorm, target)\n",
    "\n",
    "#Cree un objeto de la clase KNeighborsClassifier con el número de vecinos correspondiente y entrenelo con X_train\n",
    "KNNmodel = KNeighborsClassifier(n_neighbors=<SU NUMERO DE VECINOS ESCOGIDO>)\n",
    "KNNmodel.fit(X_train, y_train)\n",
    "\n",
    "#Utilice la función predict_proba del modemlo entrenado para predecir los valores de test\n",
    "prediccion_prob=KNNmodel.predict_proba(X_test)\n",
    "\n",
    "#Llamamos a la función mt.roc_curve entregue como parametro los valores reales de test y las predicciones\n",
    "fpr, tpr, thresholds = mt.roc_curve(y_test, prediccion_prob[:,1])\n",
    "\n",
    "tempDF=pd.DataFrame(zip(fpr,tpr),columns=[\"fpr\",\"tpr\"])\n",
    "#Curva ROC\n",
    "print(ggplot(tempDF)+aes(x=\"fpr\",y=\"tpr\")+geom_line(color=\"red\",size=2)+\n",
    "    geom_abline(color='blue') +\n",
    "    theme_bw() \n",
    ")\n"
   ]
  },
  {
   "cell_type": "markdown",
   "metadata": {},
   "source": [
    "Calculemos los valores de g-means para los valores de fpr y tpr. Recuerde gmeans es la raiz cuadrada de los tpr por 1 menos los fpr"
   ]
  },
  {
   "cell_type": "code",
   "execution_count": null,
   "metadata": {},
   "outputs": [],
   "source": [
    "gmeans = np.sqrt(tpr * (1-fpr))\n",
    "index= np.argmax(gmeans)\n",
    "\n",
    "#Veamos el threshold encontrado\n",
    "selThreshold = thresholds[index]\n",
    "print('Threshold=%f, Best Threshold=%f, G-Mean=%.3f' % (index, thresholds[index], gmeans[index]))\n"
   ]
  },
  {
   "cell_type": "markdown",
   "metadata": {},
   "source": [
    "Calcule los scores de las distintas métricas para el umbral de probabilidad indicado.\n",
    "\n",
    "Por ejemplo, el siguiente código entrega los scores originales (es decir, cuando `prediccion_prob` es mayor que 0.5).\n",
    "\n",
    "Repita el código para los umbrales elegidos.  "
   ]
  },
  {
   "cell_type": "code",
   "execution_count": null,
   "metadata": {},
   "outputs": [],
   "source": [
    "print(\"Valores originales: \")\n",
    "print(\"F1-test: \",mt.f1_score(y_test,prediccion_prob[:,1]>=0.5))\n",
    "print(\"Recall: \",mt.recall_score(y_test,prediccion_prob[:,1]>=0.5))\n",
    "print(\"Precision: \",mt.precision_score(y_test,prediccion_prob[:,1]>=0.5))\n",
    "print(\"Accuracy: \",mt.accuracy_score(y_test,prediccion_prob[:,1]>=0.5))\n",
    "\n"
   ]
  },
  {
   "cell_type": "code",
   "execution_count": null,
   "metadata": {},
   "outputs": [],
   "source": [
    "print(\"\\nValores nuevo Threshold: \")\n"
   ]
  },
  {
   "cell_type": "markdown",
   "metadata": {},
   "source": [
    "**Pregunta**: ¿Mejora el performance del modelo con este nuevo umbral?"
   ]
  },
  {
   "cell_type": "code",
   "execution_count": null,
   "metadata": {},
   "outputs": [],
   "source": []
  }
 ],
 "metadata": {
  "kernelspec": {
   "display_name": "Python3.9",
   "language": "python",
   "name": "python3.9"
  },
  "language_info": {
   "codemirror_mode": {
    "name": "ipython",
    "version": 3
   },
   "file_extension": ".py",
   "mimetype": "text/x-python",
   "name": "python",
   "nbconvert_exporter": "python",
   "pygments_lexer": "ipython3",
   "version": "3.9.12"
  }
 },
 "nbformat": 4,
 "nbformat_minor": 4
}
