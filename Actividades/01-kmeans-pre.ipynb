{
 "cells": [
  {
   "cell_type": "markdown",
   "metadata": {},
   "source": [
    "# Actividad k-means (color quantization)\n",
    "\n",
    "La actividad consiste en usar KMeans para aplicar *color quantization* a una imagen, es decir, reducir el número de colores de una imagen."
   ]
  },
  {
   "cell_type": "code",
   "execution_count": null,
   "metadata": {},
   "outputs": [],
   "source": [
    "#Instalando las librerias requeridas\n",
    "#import sys\n",
    "#!{sys.executable} -m pip install numpy, pandas, plotnine, sklearn"
   ]
  },
  {
   "cell_type": "code",
   "execution_count": null,
   "metadata": {},
   "outputs": [],
   "source": [
    "import numpy as np\n",
    "import pandas as pd\n",
    "from plotnine import *"
   ]
  },
  {
   "cell_type": "markdown",
   "metadata": {},
   "source": [
    "Primero cargamos una imagen. Puede usar la imagen que desee (recuerde ponerla en el directorio de este python notebook para que la encuentre).  Por defecto, puede usar el archivo que está comentado abajo (Starry Night, de Vincent Van Gogh)"
   ]
  },
  {
   "cell_type": "code",
   "execution_count": null,
   "metadata": {},
   "outputs": [],
   "source": [
    "#1 Cargar imagen\n",
    "from PIL import Image \n",
    "#Cargue la imagen. Para ello descomente la siguiente línea y cambie nombreImagen por el nombre de la imagen.\n",
    "# Ejemplo:\n",
    "# image0=Image.open('Van_Gogh_-_Starry_Night_-_Google_Art_Project.jpg')\n",
    "image0=Image.open('<su archivo>')\n"
   ]
  },
  {
   "cell_type": "code",
   "execution_count": null,
   "metadata": {
    "scrolled": true
   },
   "outputs": [],
   "source": [
    "image0"
   ]
  },
  {
   "cell_type": "markdown",
   "metadata": {},
   "source": [
    "El formato de la imagen es un color para cada *pixel* de la imagen. El color viene representado en formato RGB, que corresponder a 3 números entre 0 y 255, representando cuando rojo (R), verde (G) y azul (B) define el color de ese pixel.\n",
    "\n",
    "Para poder verlo, debemos transformarlo en una matriz de datos."
   ]
  },
  {
   "cell_type": "code",
   "execution_count": null,
   "metadata": {},
   "outputs": [],
   "source": [
    "image1 = np.array(image0)\n",
    "#Ahora descomente y verifique el tamaño de la imagen. Ustede debería tener una matriz de 3 dimensiones (350x620x3).\n",
    "image1.shape"
   ]
  },
  {
   "cell_type": "markdown",
   "metadata": {},
   "source": [
    "Ahora image1 tiene un arreglo de # pixeles horizontal x # pixeles vertical x 3 colores RGB.  Para aplicar clustering, lo transformaremos en un arreglo de colores solamente."
   ]
  },
  {
   "cell_type": "code",
   "execution_count": null,
   "metadata": {},
   "outputs": [],
   "source": [
    "data =  np.reshape(image1, (image1.shape[0]*image1.shape[1], 3))\n",
    "data.shape"
   ]
  },
  {
   "cell_type": "markdown",
   "metadata": {},
   "source": [
    "Contemos el número de colores que contiene la imagen. Para esto, vamos los valores únicos que aparecen en los datos\n"
   ]
  },
  {
   "cell_type": "code",
   "execution_count": null,
   "metadata": {},
   "outputs": [],
   "source": [
    "np.unique(data, axis=0).shape"
   ]
  },
  {
   "cell_type": "markdown",
   "metadata": {},
   "source": [
    "Ahora estamos listos para aplicar K-Means, y así agrupar colores que sean similares, en un solo color definido por el centroide de cada cluster."
   ]
  },
  {
   "cell_type": "markdown",
   "metadata": {},
   "source": [
    "### Paso 1: Aplicar KMeans\n",
    "Aplique K-Means a los datos, con un número de clusters que usted defina.\n"
   ]
  },
  {
   "cell_type": "code",
   "execution_count": null,
   "metadata": {},
   "outputs": [],
   "source": [
    "from sklearn.cluster import KMeans\n",
    "\n",
    "KM = KMeans(n_clusters=  ... )\n",
    "KM.fit(...)\n",
    "KM.inertia_"
   ]
  },
  {
   "cell_type": "markdown",
   "metadata": {},
   "source": [
    "### Paso 2: Validación # clusters\n",
    "Validemos el numero de cluster que usaremos. Para esto, ejecutamos el comando anterior para distinto número de clusters, y creamos una lista donde guardamos el within cluster distance (`KM.inertia_`).  \n",
    "\n",
    "OJO: Dependiendo del tamaño de su imagen, esto puede demorar mucho. \n"
   ]
  },
  {
   "cell_type": "code",
   "execution_count": null,
   "metadata": {},
   "outputs": [],
   "source": [
    "#Ahora necesitamos crear el gráfico para analizar cuando se estabiliza el within cluster distance. \n",
    "#para ello, crearemos una lista vacia ([]) y la llamaremos sse. Aquí guardaremos los valores\n",
    "#del within cluster distance para varias ejecuciones del k-means.\n",
    "sse = []\n",
    "maxClusters = ... # Ejemplo : 15\n",
    "\n",
    "for numC in range(1,maxClusters):\n",
    "    KM = KMeans(n_clusters=...)\n",
    "    KM.fit(...)\n",
    "    sse.append(KM.inertia_)\n",
    "    "
   ]
  },
  {
   "cell_type": "markdown",
   "metadata": {},
   "source": [
    "Plotee el número de clusters, y defina cuantos clusters son apropiados "
   ]
  },
  {
   "cell_type": "code",
   "execution_count": null,
   "metadata": {},
   "outputs": [],
   "source": [
    "# Varias opciones:\n",
    "# 1) usando Pandas: pd.DataFrame(sse, index=np.arange(1,maxClusters)).plot()\n",
    "# 2) usando GGplot: \n",
    "# tempDataFrame=pd.DataFrame(range(1, maxClusters),columns=[\"numK\"])\n",
    "# tempDataFrame['sse']=sse\n",
    "# (ggplot(tempDataFrame)+aes(x=\"numK\",y=\"sse\")+theme_bw()+geom_line()+labs(x=\"Número de clusters\",y=\"WCD\")\n"
   ]
  },
  {
   "cell_type": "markdown",
   "metadata": {},
   "source": [
    "### Paso 3:  Clusterización definitiva y generar datos agrupados\n",
    "Ejecute nuevamente KMeans con el número de clusters deseado, para obtener los *labels* que indican a que cluster pertenece cada pixel."
   ]
  },
  {
   "cell_type": "code",
   "execution_count": null,
   "metadata": {
    "scrolled": true
   },
   "outputs": [],
   "source": [
    "KM = KMeans(n_clusters=  ... )\n",
    "KM.fit(...)\n"
   ]
  },
  {
   "cell_type": "markdown",
   "metadata": {},
   "source": [
    "Para cada cluster, entonces recuperamos los centros y re-escribimos el color asociado a cada pixel.\n",
    "\n",
    "OJO:  el centroide será un valor fraccionario (*float*), para que sea reconocido como un color, debemos transformarlo en entero, con la función `.astype('int')`\n"
   ]
  },
  {
   "cell_type": "code",
   "execution_count": null,
   "metadata": {},
   "outputs": [],
   "source": [
    "#4 Reemplazar cada pixel por el color correspondiente\n",
    "# copiemos primero la data para tener un respaldo\n",
    "dataQ = data.copy()\n",
    "\n",
    "#Ahora vamos a reemplazar el pixel de cada punto con la media del cluster al que pertenece.\n",
    "#Cree un ciclo for que itere para cada cluster\n",
    "for clusterId in range( <el numero de clusters elegido> ):\n",
    "    centroide = KM.cluster_centers_[clusterId]\n",
    "\n",
    "    #Seleccione los puntos que pertenecen al i-ésimo cluster\n",
    "    #Para ello vea a que cluster pertenece cada punto y cree un vector de TRUE y FALSE,\n",
    "    #donde TRUE implica que el i-ésimo punto pertence al cluster i.\n",
    "    #indices = #complete el código\n",
    "    \n",
    "    #Reemplazando los valores de dataQ pertenecientes al cluster i con su media.\n",
    "    #dataQ[indices,:]= centroide.astype('int')"
   ]
  },
  {
   "cell_type": "markdown",
   "metadata": {},
   "source": [
    "Veamos si funcionó volviendo a contar el # de colores que aparecen"
   ]
  },
  {
   "cell_type": "code",
   "execution_count": null,
   "metadata": {},
   "outputs": [],
   "source": [
    "np.unique(dataQ, axis=0).shape"
   ]
  },
  {
   "cell_type": "markdown",
   "metadata": {},
   "source": [
    "### Paso 5 : Ver resultado\n",
    "Ahora vemos el resultado. Para esto, primero debemos cambiar los datos nuevamente a su tamaño original (ancho x alto x 3)\n"
   ]
  },
  {
   "cell_type": "code",
   "execution_count": null,
   "metadata": {},
   "outputs": [],
   "source": [
    "nuevaImagen=np.reshape(dataQ, (image1.shape[0], image1.shape[1], 3))\n",
    "nuevaImagen.shape\n",
    "\n"
   ]
  },
  {
   "cell_type": "markdown",
   "metadata": {},
   "source": [
    "Y grabamos la imagen en un archivo nuevamente."
   ]
  },
  {
   "cell_type": "code",
   "execution_count": null,
   "metadata": {},
   "outputs": [],
   "source": [
    "#6) Grabar la nueva imagen\n",
    "#Finalmente estas líneas generan y guardan/muestran la nueva imagen\n",
    "import matplotlib.pyplot as mpl\n",
    "mpl.imsave('nuevaVG.jpg',nuevaImagen) #Comente esta línea\n",
    "mpl.imshow(nuevaImagen) #Comente esta línea"
   ]
  },
  {
   "cell_type": "code",
   "execution_count": null,
   "metadata": {},
   "outputs": [],
   "source": []
  }
 ],
 "metadata": {
  "kernelspec": {
   "display_name": "Python3.9",
   "language": "python",
   "name": "python3.9"
  },
  "language_info": {
   "codemirror_mode": {
    "name": "ipython",
    "version": 3
   },
   "file_extension": ".py",
   "mimetype": "text/x-python",
   "name": "python",
   "nbconvert_exporter": "python",
   "pygments_lexer": "ipython3",
   "version": "3.9.12"
  }
 },
 "nbformat": 4,
 "nbformat_minor": 4
}
