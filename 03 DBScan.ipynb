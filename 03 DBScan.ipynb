{
 "cells": [
  {
   "cell_type": "markdown",
   "metadata": {},
   "source": [
    "# Cargando las librerias requeridas"
   ]
  },
  {
   "cell_type": "code",
   "execution_count": null,
   "metadata": {},
   "outputs": [],
   "source": [
    "import numpy as np\n",
    "import pandas as pd\n",
    "from plotnine import *"
   ]
  },
  {
   "cell_type": "code",
   "execution_count": null,
   "metadata": {},
   "outputs": [],
   "source": [
    "from sklearn import datasets\n",
    "wine = datasets.load_wine() #Cargando el dataset de vino\n",
    "print(wine.keys()) #Analizando las variables que tiene\n",
    "\n",
    "#Escalando los datos\n",
    "from sklearn.preprocessing import StandardScaler\n",
    "scaler = StandardScaler() #Creamos un objeto de la clase StandardScaler\n",
    "scaled_features = scaler.fit_transform(wine.data) #Transformamos los datos"
   ]
  },
  {
   "cell_type": "markdown",
   "metadata": {},
   "source": [
    "# Clase DBScan\n",
    "\n",
    "Para el algoritmo de DBSCAN se utiliza la clase sklearn.cluster.DBSCAN<br>\n",
    "DBSCAN(eps=0.5,min_samples=5, metric='euclidean')<br><br>\n",
    "Parámetros\n",
    "* eps: radio de la esfera n-dimensional para la cual se buscan los minPoints.\n",
    "* minPts: número mínimo de puntos dentro de la región definida por eps para considerar a un punto como crítico (el punto a analizar también se cuenta).\n",
    "* metric: métrica para el cálculo de la distancia<br> \n",
    "scikit-learn => ‘cityblock’, ‘cosine’, ‘euclidean’,‘manhattan’ <br>\n",
    "scipy.spatial.distance => ‘chebyshev’, ‘correlation’, ‘hamming’, ‘jaccard’, ‘mahalanobis’, ‘minkowski’, ‘seuclidean’,’sqeuclidean’.<br><br>\n",
    "\n",
    "Atributos\n",
    "* core_sample_indices_: indices de puntos core.\n",
    "* components_: Copia de los puntos core.\n",
    "* labels_: etiquetas de los puntos (-1 implica outlier/noise (N)).<br><br>\n",
    "\n",
    "Funciones:\n",
    "* fit(X): entrena el modelo con los parametros asignados.\n",
    "* fit_predict(X): entrena y devuelve los clusters encontrados con los parametros asignados."
   ]
  },
  {
   "cell_type": "code",
   "execution_count": null,
   "metadata": {},
   "outputs": [],
   "source": [
    "#Creando un objeto de DBSCAN con las condiciones iniciales\n",
    "from sklearn.cluster import DBSCAN\n",
    "DB = DBSCAN(eps=2, min_samples=4)\n",
    "#El objeto.modelo ha sido creado\n",
    "\n",
    "# #Entrenando el modelo\n",
    "DB = DB.fit(scaled_features)\n",
    "\n"
   ]
  },
  {
   "cell_type": "code",
   "execution_count": null,
   "metadata": {},
   "outputs": [],
   "source": [
    "#Mostrando las clases aprendidas\n",
    "DB.labels_"
   ]
  },
  {
   "cell_type": "code",
   "execution_count": null,
   "metadata": {},
   "outputs": [],
   "source": [
    "# Mostrando los puntos CORES (observar que varios puntos no fueron considerados)\n",
    "DB.core_sample_indices_"
   ]
  },
  {
   "cell_type": "code",
   "execution_count": null,
   "metadata": {},
   "outputs": [],
   "source": [
    "#Creando el objeto y aplicando PCA\n",
    "from sklearn.decomposition import PCA\n",
    "pca = PCA(n_components=2)\n",
    "pca.fit(scaled_features)\n",
    "tempData = pca.transform(scaled_features)\n",
    "tempData = pd.DataFrame(tempData,columns=[\"PC1\",\"PC2\"])\n",
    "tempData[\"labels\"]=DB.labels_\n",
    "ggplot(tempData, aes(x=\"PC1\",y=\"PC2\",color=\"factor(labels)\"))+geom_point()+theme_bw()"
   ]
  },
  {
   "cell_type": "markdown",
   "metadata": {},
   "source": [
    "# clase NearestNeighbors\n",
    "## Buscando eps\n",
    "\n",
    "Para calcular las distancias de los vecinos se utiliza la clase sklearn.neighbors.NearestNeighbors<br>\n",
    "NearestNeighbors(n_neighbors=5, metric='minkowski', p=2)<br>\n",
    "Parámetros\n",
    "* n_neighbors: Números de vecinos a estimar.\n",
    "* metric: métrica para el cálculo de la distancia.\n",
    "* p: parámetro de la distancia de minkowski (2 es euclideana). <br><br>\n",
    "\n",
    "Atributos\n",
    "* effective_metric_: métrica usada para el cálculo de la distancia.\n",
    "* effective_metric_params_: Parámetros de la métrica usada para el cálculo de la distancia.\n",
    "* n_samples_fit_: número de puntos del dataset.<br><br>\n",
    "\n",
    "Funciones:\n",
    "* fit(X): Encontrar los vecinos más cercanos de los datos.\n",
    "* kneighbors(X, n_neighbors): Encontrar los K vecinos más cercano de un punto, retorna tanto los índices como la distancia.\n",
    "* radius_neighbors(X, radius): Encontrar los vecinos de uno o más puntos que se encuentran dentro de un radio determinado."
   ]
  },
  {
   "cell_type": "code",
   "execution_count": null,
   "metadata": {},
   "outputs": [],
   "source": [
    "from sklearn.neighbors import NearestNeighbors\n",
    "numNeighboors=3\n",
    "neighbors = NearestNeighbors(n_neighbors=numNeighboors) #Creando el modelo\n",
    "neighbors_fit = neighbors.fit(scaled_features) #\"Entrenando\" el modelo\n",
    "distances, indices = neighbors_fit.kneighbors(scaled_features) #\"Buscando los vecinos más cercanos\"\n",
    "distances = distances[:,numNeighboors-1]\n",
    "distances.sort()\n",
    "distances\n",
    "\n",
    "tempDataFrame=pd.DataFrame(range(1,len(distances)+1),columns=[\"puntos\"])\n",
    "tempDataFrame[\"dist\"]=distances\n",
    "(ggplot(tempDataFrame)\n",
    " +aes(x=\"puntos\",y=\"dist\")\n",
    " +theme_bw()\n",
    " +geom_line()\n",
    " +labs(y=\"distancia\",x=\"i-esimo punto\")\n",
    ")"
   ]
  },
  {
   "cell_type": "code",
   "execution_count": null,
   "metadata": {},
   "outputs": [],
   "source": [
    "#Creando un objeto de DBSCAN con las condiciones iniciales\n",
    "from sklearn.decomposition import PCA\n",
    "from sklearn.cluster import DBSCAN\n",
    "DB = DBSCAN(eps=2.2, min_samples=3)\n",
    "DB = DB.fit(scaled_features)\n",
    "pca = PCA(n_components=2)\n",
    "pca.fit(scaled_features)\n",
    "tempData = pca.transform(scaled_features)\n",
    "tempData = pd.DataFrame(tempData,columns=[\"PC1\",\"PC2\"])\n",
    "tempData[\"labels\"]=DB.labels_\n",
    "ggplot(tempData)+aes(x=\"PC1\",y=\"PC2\",color=\"factor(labels)\")+geom_point()+theme_bw()"
   ]
  },
  {
   "cell_type": "code",
   "execution_count": null,
   "metadata": {},
   "outputs": [],
   "source": []
  }
 ],
 "metadata": {
  "kernelspec": {
   "display_name": "Python 3 (ipykernel)",
   "language": "python",
   "name": "python3"
  },
  "language_info": {
   "codemirror_mode": {
    "name": "ipython",
    "version": 3
   },
   "file_extension": ".py",
   "mimetype": "text/x-python",
   "name": "python",
   "nbconvert_exporter": "python",
   "pygments_lexer": "ipython3",
   "version": "3.9.10"
  }
 },
 "nbformat": 4,
 "nbformat_minor": 4
}
