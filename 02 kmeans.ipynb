{
 "cells": [
  {
   "cell_type": "markdown",
   "metadata": {},
   "source": [
    "# Cargando las librerias requeridas"
   ]
  },
  {
   "cell_type": "code",
   "execution_count": null,
   "metadata": {},
   "outputs": [],
   "source": [
    "#Instalando las librerias requeridas\n",
    "# import sys\n",
    "# !{sys.executable} -m pip install numpy, pandas, plotnine, sklearn"
   ]
  },
  {
   "cell_type": "code",
   "execution_count": null,
   "metadata": {},
   "outputs": [],
   "source": [
    "import numpy as np\n",
    "import pandas as pd\n",
    "import plotnine as ptn\n",
    "from plotnine import *"
   ]
  },
  {
   "cell_type": "code",
   "execution_count": null,
   "metadata": {},
   "outputs": [],
   "source": [
    "import sys\n",
    "print(\"Python version:\",sys.version)\n",
    "print(\"Numpy version:\",np.__version__)\n",
    "print(\"Pandas version:\",pd.__version__)\n",
    "print(\"Plotnine version:\",ptn.__version__)\n"
   ]
  },
  {
   "cell_type": "code",
   "execution_count": null,
   "metadata": {},
   "outputs": [],
   "source": [
    "from sklearn import datasets\n",
    "iris = datasets.load_iris() #Cargando el dataset de la flor de iris\n",
    "\n",
    "tempDF=pd.DataFrame(iris.data,columns=iris.feature_names)\n"
   ]
  },
  {
   "cell_type": "code",
   "execution_count": null,
   "metadata": {},
   "outputs": [],
   "source": [
    "ggplot(tempDF, aes(x=\"sepal length (cm)\", y=\"sepal width (cm)\")) + geom_point()"
   ]
  },
  {
   "cell_type": "code",
   "execution_count": null,
   "metadata": {},
   "outputs": [],
   "source": [
    "ggplot(tempDF, aes(x=\"petal length (cm)\", y=\"petal width (cm)\")) + geom_point()"
   ]
  },
  {
   "cell_type": "markdown",
   "metadata": {},
   "source": [
    "# Modelos de la clase sklearn\n",
    "La mayoría de los modelos de sklearn corresponden a “objetos” de cierta “clase” con propiedades y funciones específicas. En términos prácticos solo se necesita crear una caja mágica que contiene todo lo necesario para aplicar y analizar los modelos.\n",
    "* from sklearn.xxx import modeloDeseado => Importación del modelo\n",
    "* nuevoModelo = modeloDeseado() => Creación del modelo\n",
    "* nuevoModelo.function() => Aplicar alguna función\n",
    "* nuevoModelo.attribute => Ver los valores de un atributo"
   ]
  },
  {
   "cell_type": "markdown",
   "metadata": {},
   "source": [
    "# Clase k-means\n",
    "\n",
    "Existen múltiples parámetros para el modelo k-means:<br>\n",
    "KMeans(n_clusters=8, init=’k-means++’, n_init=10, max_iter=300, tol=0.0001, random_state=None)\n",
    "* n_clusters => número de clusters\n",
    "* init => ’k-means++’ inicialización inteligente, 'random' aleatoria \n",
    "* n_init => Número de veces que aplicaremos k-means\n",
    "* max_iter => Máximo número de iteraciones para cada ejecución\n",
    "* tol => Tolerancia para la convergencia\n",
    "* random_state => Semilla para inicializar los centroides. Use un entero para ser determinista.\n",
    "\n",
    "Existen múltiple métodos/funciones para el modelo k-means\n",
    "* km.fit(data) => entrenar el modelo usando ciertos datos, retorna el modelo entrenado\n",
    "* km.predict(data) => dado un modelo entrenado, determina a que clase pertenece cada punto, retorna un vector con predicciones"
   ]
  },
  {
   "cell_type": "code",
   "execution_count": null,
   "metadata": {},
   "outputs": [],
   "source": [
    "from sklearn.cluster import KMeans\n",
    "#K-means es una clase con múltiples parámetros, atributos y funciones.\n",
    "#Para aplicar k-means es necesario crear el objeto y luego aplicarto\n",
    "\n",
    "#Creando un objeto de k-means con las condiciones iniciales\n",
    "km = KMeans(n_clusters=4)\n",
    "#El objeto ha sido creado\n",
    "\n",
    "#Entrenando el modelo con los datos de iris\n",
    "km=km.fit(tempDF)"
   ]
  },
  {
   "cell_type": "markdown",
   "metadata": {},
   "source": [
    "# Caracteristicas del modelo entrenado\n",
    "Una vez entrenado el modelo, existen nuevas características que podemos observar (atributos)<br>\n",
    "Atributos\n",
    "* cluster_centers: Las coordenadas de los centroides. Si el algoritmo no converge estos no serán consistentes con los labels.\n",
    "* inertia_float: la suma total de los within cluster distance\n",
    "* labels: Las etiquetas de cada punto (cluster al que pertenece)\n",
    "* n_iter_: número de iteraciones del algoritmo"
   ]
  },
  {
   "cell_type": "code",
   "execution_count": null,
   "metadata": {},
   "outputs": [],
   "source": [
    "#El modelo ya ha sido entrenado, veamos los resultados\n",
    "print(km.cluster_centers_) #Mostrando los centros de los clusters\n",
    "\n",
    "print(km.inertia_) #Within cluster distance\n",
    "\n",
    "print(km.labels_) #Etiquetas\n",
    "\n",
    "print(km.n_iter_) #Número de iteraciones del algoritmo"
   ]
  },
  {
   "cell_type": "code",
   "execution_count": null,
   "metadata": {},
   "outputs": [],
   "source": []
  },
  {
   "cell_type": "markdown",
   "metadata": {},
   "source": [
    "# Graficando los clusters"
   ]
  },
  {
   "cell_type": "code",
   "execution_count": null,
   "metadata": {},
   "outputs": [],
   "source": [
    "labels = pd.Series(km.labels_, index=tempDF.index, dtype='category')"
   ]
  },
  {
   "cell_type": "code",
   "execution_count": null,
   "metadata": {},
   "outputs": [],
   "source": [
    "ggplot(tempDF, aes(x=\"sepal length (cm)\", y=\"sepal width (cm)\", color=labels)) + geom_point()"
   ]
  },
  {
   "cell_type": "code",
   "execution_count": null,
   "metadata": {},
   "outputs": [],
   "source": [
    "ggplot(tempDF, aes(x=\"petal length (cm)\", y=\"petal width (cm)\", color=labels)) + geom_point()"
   ]
  },
  {
   "cell_type": "code",
   "execution_count": null,
   "metadata": {},
   "outputs": [],
   "source": [
    "km.cluster_centers_"
   ]
  },
  {
   "cell_type": "markdown",
   "metadata": {},
   "source": [
    "# Buscando el valor de K"
   ]
  },
  {
   "cell_type": "code",
   "execution_count": null,
   "metadata": {},
   "outputs": [],
   "source": [
    "sse = [] #Variable para guardar el within cluster distance\n",
    "numK = 18\n",
    "for k in range(1, numK): #número de cluster a probar\n",
    "    #Creando el modelo, entrenandolo y obteniendo el valor del within cluster distance\n",
    "    kmeans = KMeans(n_clusters=k)\n",
    "    kmeans.fit(tempDF)\n",
    "    sse.append(kmeans.inertia_)\n",
    "# #graficando\n",
    "# tempDataFrame=pd.DataFrame(range(1, numK),columns=[\"numK\"])\n",
    "# tempDataFrame[\"sse\"]=sse\n",
    "# (ggplot(tempDataFrame)+aes(x=\"numK\",y=\"sse\")+theme_bw()+geom_line()+labs(x=\"Número de clusters\",y=\"WCD\")\n",
    "#   +scale_x_continuous(breaks=range(1,numK)))"
   ]
  },
  {
   "cell_type": "code",
   "execution_count": null,
   "metadata": {},
   "outputs": [],
   "source": [
    "pd.DataFrame(sse, index=np.arange(1,numK)).plot()"
   ]
  },
  {
   "cell_type": "markdown",
   "metadata": {},
   "source": [
    "# Buscando el valor de K escalando los datos y multiples iteraciones"
   ]
  },
  {
   "cell_type": "code",
   "execution_count": null,
   "metadata": {},
   "outputs": [],
   "source": [
    "from sklearn.preprocessing import StandardScaler\n",
    "scaler = StandardScaler() #Creamos un objeto de la clase StandardScaler\n",
    "scaled_features = scaler.fit_transform(tempDF) #estandarización los datos (media 0, varianza 1)\n",
    "pd.DataFrame(scaled_features, columns=tempDF.columns)"
   ]
  },
  {
   "cell_type": "code",
   "execution_count": null,
   "metadata": {},
   "outputs": [],
   "source": [
    "#Aplicando el mismo proceso anterior para buscar el número de K\n",
    "sse = []\n",
    "numK = 18\n",
    "for k in range(1, numK):\n",
    "    kmeans = KMeans(n_clusters=k)\n",
    "    kmeans.fit(scaled_features)\n",
    "    sse.append(kmeans.inertia_)\n",
    "\n",
    "pd.DataFrame(sse, index=np.arange(1,numK)).plot()"
   ]
  },
  {
   "cell_type": "markdown",
   "metadata": {},
   "source": [
    "# K-modes\n",
    "Parametros\n",
    "* n_clusters: número de clusters.\n",
    "* max_iter: máximo número de iteraciones.\n",
    "* init: Método de inicialización ('Huang', 'Cao', 'random') default: 'Cao'\n",
    "* n_init: número de veces que K-modes se ejecuta\n",
    "\n",
    "Al igual que k-means tiene las funciones fit and predict\n",
    "\n",
    "Atributos\n",
    "* cluster_centroids_: Centroide de los clusters\n",
    "* labels_: Etiqueta de cada punto\n",
    "* cost_: Suma de todos los puntos con respecto a los centroides\n",
    "* n_iter_: número de iteraciones para el algoritmo"
   ]
  },
  {
   "cell_type": "code",
   "execution_count": null,
   "metadata": {},
   "outputs": [],
   "source": [
    "#Instalando una nueva libreria\n",
    "# import sys\n",
    "# !{sys.executable} -m pip install kmodes\n",
    "from kmodes.kmodes import KModes"
   ]
  },
  {
   "cell_type": "code",
   "execution_count": null,
   "metadata": {},
   "outputs": [],
   "source": [
    "#Cargando y viendo los datos\n",
    "#En el caso de google colab tiene que subir el archivo a la nube primero\n",
    "bank = pd.read_csv('./data/bank.csv',sep=\";\")\n",
    "#https://archive.ics.uci.edu/ml/datasets/bank+marketing#\n",
    "#Es un subset de esta base de datos\n",
    "\n"
   ]
  },
  {
   "cell_type": "code",
   "execution_count": null,
   "metadata": {},
   "outputs": [],
   "source": [
    "bank"
   ]
  },
  {
   "cell_type": "code",
   "execution_count": null,
   "metadata": {},
   "outputs": [],
   "source": [
    "\n",
    "#Extrayendo las variables nominales\n",
    "bank_cust = bank[['job', 'marital', 'education', 'default', 'housing', 'loan','contact','month','poutcome']].copy()\n",
    "bank_cust\n"
   ]
  },
  {
   "cell_type": "code",
   "execution_count": null,
   "metadata": {},
   "outputs": [],
   "source": [
    "#Agregando edad como variable categorica\n",
    "bank_cust['edad'] = pd.cut(bank['age'], [0, 20, 30, 40, 50, 60, 70, 80, 90, 100], \n",
    "                                 labels=['0-20', '20-30', '30-40', '40-50','50-60','60-70','70-80', '80-90','90-100'])\n",
    "bank_cust"
   ]
  },
  {
   "cell_type": "code",
   "execution_count": null,
   "metadata": {},
   "outputs": [],
   "source": [
    "bank_cust.describe() #Viendo el resumen de los datos"
   ]
  },
  {
   "cell_type": "code",
   "execution_count": null,
   "metadata": {},
   "outputs": [],
   "source": [
    "#Transformando los datos a números (sklearn no trabaja con datos categóricos)\n",
    "from sklearn import preprocessing\n",
    "le = preprocessing.LabelEncoder()\n",
    "le.fit_transform(bank_cust['job'])"
   ]
  },
  {
   "cell_type": "code",
   "execution_count": null,
   "metadata": {},
   "outputs": [],
   "source": [
    "bank_cust_orig=bank_cust.copy() #Copia de los datos de origen\n",
    "\n",
    "le = preprocessing.LabelEncoder()\n",
    "bank_cust = bank_cust.apply(le.fit_transform)\n",
    "bank_cust"
   ]
  },
  {
   "cell_type": "code",
   "execution_count": null,
   "metadata": {
    "scrolled": true
   },
   "outputs": [],
   "source": [
    "#Creando el modelo y ajustándolo\n",
    "km_cao = KModes(n_clusters=3, init = \"Cao\", n_init = 1, verbose=1)\n",
    "km_cao = km_cao.fit(bank_cust)\n",
    "print(\"Cluster 0:\",sum(km_cao.labels_==0))\n",
    "print(\"Cluster 1:\",sum(km_cao.labels_==1))\n",
    "print(\"Cluster 2:\",sum(km_cao.labels_==2))"
   ]
  },
  {
   "cell_type": "code",
   "execution_count": null,
   "metadata": {},
   "outputs": [],
   "source": [
    "#Veamos los centroides \n",
    "out = pd.DataFrame()\n",
    "for col in range(len(bank_cust.columns)):\n",
    "    le.fit(bank_cust_orig.iloc[:,col])\n",
    "    out[bank_cust.columns[col]] = le.inverse_transform(km_cao.cluster_centroids_[:,col])"
   ]
  },
  {
   "cell_type": "code",
   "execution_count": null,
   "metadata": {},
   "outputs": [],
   "source": [
    "out"
   ]
  },
  {
   "cell_type": "markdown",
   "metadata": {},
   "source": [
    "# Interpretando el modelo"
   ]
  },
  {
   "cell_type": "code",
   "execution_count": null,
   "metadata": {},
   "outputs": [],
   "source": [
    "from sklearn import datasets\n",
    "wine = datasets.load_wine() #Cargando el dataset de vino\n",
    "\n",
    "tempDataFrame=pd.DataFrame(wine.data, columns=wine.feature_names)\n",
    "tempDataFrame"
   ]
  },
  {
   "cell_type": "code",
   "execution_count": null,
   "metadata": {},
   "outputs": [],
   "source": [
    "#Escalando los datos\n",
    "from sklearn.preprocessing import StandardScaler\n",
    "scaler = StandardScaler() #Creamos un objeto de la clase StandardScaler\n",
    "scaled_features = scaler.fit_transform(wine.data) #Transformamos los datos\n",
    "sse=[]\n",
    "\n",
    "#Buscando el número de clusters\n",
    "from sklearn.cluster import KMeans\n",
    "maxCluster=40\n",
    "for k in range(1, maxCluster):\n",
    "    kmeans = KMeans(n_clusters=k,n_init=10)\n",
    "    kmeans.fit(scaled_features)\n",
    "    sse.append(kmeans.inertia_)\n",
    "# tempDataFrame=pd.DataFrame(range(1, maxCluster),columns=[\"numK\"])\n",
    "# tempDataFrame[\"sse\"]=sse\n",
    "# (ggplot(tempDataFrame)+aes(x=\"numK\",y=\"sse\")+theme_bw()+geom_line()+labs(x=\"Número de clusters\",y=\"WCD\")\n",
    "#  +scale_x_continuous(breaks=range(1,maxCluster)))\n",
    "pd.DataFrame(sse, index=np.arange(1,maxCluster)).plot()"
   ]
  },
  {
   "cell_type": "code",
   "execution_count": null,
   "metadata": {},
   "outputs": [],
   "source": [
    "#Aplicando el número de clusters seleccionado\n",
    "selectedCluster=3\n",
    "kmeans = KMeans(n_clusters=selectedCluster,n_init=10)\n",
    "kmeans.fit(scaled_features)"
   ]
  },
  {
   "cell_type": "markdown",
   "metadata": {},
   "source": [
    "# Interpretando el modelo\n",
    "## Árbol de clasificación"
   ]
  },
  {
   "cell_type": "code",
   "execution_count": null,
   "metadata": {},
   "outputs": [],
   "source": [
    "#Posteriormente veremos y entenderemos más sobre el árbol de decisión\n",
    "import matplotlib.pyplot as plt\n",
    "\n",
    "#Creando un objeto de la clase tree\n",
    "from sklearn import tree\n",
    "\n",
    "tempDF=pd.DataFrame(wine.data,columns=wine.feature_names)\n",
    "clf = tree.DecisionTreeClassifier(max_depth=2)\n",
    "clf = clf.fit(tempDF, kmeans.labels_.astype(\"str\"))\n",
    "\n",
    "plt.figure(figsize=(15,15))\n",
    "tree.plot_tree(clf,feature_names = wine.feature_names,filled=True) \n",
    "plt.show()"
   ]
  },
  {
   "cell_type": "code",
   "execution_count": null,
   "metadata": {},
   "outputs": [],
   "source": [
    "tempDF.describe()"
   ]
  },
  {
   "cell_type": "markdown",
   "metadata": {},
   "source": [
    "# Interpretando el modelo\n",
    "## PCA"
   ]
  },
  {
   "cell_type": "code",
   "execution_count": null,
   "metadata": {},
   "outputs": [],
   "source": [
    "#Creando el objeto y aplicando PCA\n",
    "from sklearn.decomposition import PCA\n",
    "pca = PCA(n_components=2)\n",
    "pca.fit(scaled_features)\n",
    "tempData = pca.transform(scaled_features)\n",
    "tempData = pd.DataFrame(tempData,columns=[\"PC1\",\"PC2\"])\n",
    "tempData[\"labels\"]=kmeans.labels_\n",
    "tempData\n",
    "ggplot(tempData)+aes(x=\"PC1\",y=\"PC2\",color=\"factor(labels)\")+geom_point()+theme_bw()"
   ]
  },
  {
   "cell_type": "code",
   "execution_count": null,
   "metadata": {},
   "outputs": [],
   "source": [
    "#Analizando los componentes\n",
    "datapc = pd.DataFrame(pca.components_.transpose(),columns=[\"PC1\",\"PC2\"])\n",
    "datapc['varNames']=wine.feature_names\n",
    "datapc\n",
    "(ggplot(datapc)+\n",
    "  theme_bw()+\n",
    "  labs(title=\"loading plots\")+\n",
    "  geom_text(aes(x=\"PC1\", y=\"PC2\", label=\"varNames\"), size = 10, color=\"blue\")+\n",
    "  geom_segment(aes(x=0, y=0, xend=\"PC1\", yend=\"PC2\"), arrow=arrow(length=0.1),size=1, alpha=0.75, color=\"blue\")+\n",
    "  scale_x_continuous(limits=[-0.9,0.9],breaks=[-0.6,-0.5,-0.4,-0.3,-0.2,-0.1,0.0,0.1,0.2,0.3,0.4,0.5,0.6])+\n",
    "  scale_y_continuous(limits=[-0.9,0.9],breaks=[-0.6,-0.5,-0.4,-0.3,-0.2,-0.1,0.0,0.1,0.2,0.3,0.4,0.5,0.6])+\n",
    "  geom_hline(yintercept = 0, size=.2)+\n",
    "  geom_vline(xintercept = 0, size=.2)+\n",
    "  coord_cartesian([-0.6,0.6],[-0.6,0.6])\n",
    ")"
   ]
  },
  {
   "cell_type": "markdown",
   "metadata": {},
   "source": [
    "# Interpretando el modelo\n",
    "## Análisis de centroides"
   ]
  },
  {
   "cell_type": "code",
   "execution_count": null,
   "metadata": {},
   "outputs": [],
   "source": [
    "KMcentroids=pd.DataFrame(kmeans.cluster_centers_,columns=wine.feature_names)\n",
    "KMcentroids"
   ]
  },
  {
   "cell_type": "code",
   "execution_count": null,
   "metadata": {},
   "outputs": [],
   "source": [
    "KMcentroids"
   ]
  },
  {
   "cell_type": "code",
   "execution_count": null,
   "metadata": {},
   "outputs": [],
   "source": [
    "tempDF=pd.DataFrame({'varNames': KMcentroids.columns, 'std': KMcentroids.std()})\n",
    "#tempDF=pd.DataFrame(KMcentroids.std(),columns=[\"std\"])\n",
    "orderVar=tempDF.sort_values(\"std\")[\"varNames\"]\n",
    "\n"
   ]
  },
  {
   "cell_type": "code",
   "execution_count": null,
   "metadata": {},
   "outputs": [],
   "source": [
    "ggplot(tempDF, aes(x='varNames', y='std')) + geom_col() + coord_flip() \\\n",
    " +scale_x_discrete(limits=orderVar)  +labs(title=\"desviación de los centroides\",x=\"\")\n",
    "\n",
    "\n",
    "\n"
   ]
  },
  {
   "cell_type": "code",
   "execution_count": null,
   "metadata": {},
   "outputs": [],
   "source": [
    "dfCentroids = pd.DataFrame(scaler.inverse_transform(KMcentroids), columns=KMcentroids.columns)"
   ]
  },
  {
   "cell_type": "code",
   "execution_count": null,
   "metadata": {},
   "outputs": [],
   "source": [
    "df=pd.DataFrame(wine.data, columns=wine.feature_names)\n",
    "df['cluster'] = kmeans.labels_\n"
   ]
  },
  {
   "cell_type": "code",
   "execution_count": null,
   "metadata": {},
   "outputs": [],
   "source": [
    "df2 = df.melt(id_vars='cluster')"
   ]
  },
  {
   "cell_type": "code",
   "execution_count": null,
   "metadata": {},
   "outputs": [],
   "source": [
    "ggplot(df2[df2['variable']=='ash'], aes(x='factor(cluster)', y='value')) \\\n",
    "    + stat_summary(geom='geom_errorbar') +stat_summary(geom='point') + facet_wrap('variable', scales='free_y')"
   ]
  },
  {
   "cell_type": "code",
   "execution_count": null,
   "metadata": {},
   "outputs": [],
   "source": [
    "ggplot(df2, aes(x='factor(cluster)', y='value')) \\\n",
    "    + stat_summary(geom='geom_errorbar') +stat_summary(geom='point') \\\n",
    "    + facet_wrap('variable', scales='free_y')  + theme(figure_size=(10,10),subplots_adjust={'wspace': 0.25}) "
   ]
  },
  {
   "cell_type": "code",
   "execution_count": null,
   "metadata": {},
   "outputs": [],
   "source": []
  }
 ],
 "metadata": {
  "kernelspec": {
   "display_name": "Python 3 (ipykernel)",
   "language": "python",
   "name": "python3"
  },
  "language_info": {
   "codemirror_mode": {
    "name": "ipython",
    "version": 3
   },
   "file_extension": ".py",
   "mimetype": "text/x-python",
   "name": "python",
   "nbconvert_exporter": "python",
   "pygments_lexer": "ipython3",
   "version": "3.9.10"
  }
 },
 "nbformat": 4,
 "nbformat_minor": 4
}
